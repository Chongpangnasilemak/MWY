{
 "cells": [
  {
   "cell_type": "code",
   "execution_count": null,
   "metadata": {},
   "outputs": [],
   "source": [
    "%pip install pandas tqdm matplotlib networkx plotly"
   ]
  },
  {
   "cell_type": "code",
   "execution_count": 177,
   "metadata": {},
   "outputs": [],
   "source": [
    "import pandas as pd \n",
    "from tqdm import tqdm\n",
    "import matplotlib.pyplot as plt\n",
    "import networkx as nx\n",
    "import plotly.express as px"
   ]
  },
  {
   "cell_type": "code",
   "execution_count": 190,
   "metadata": {},
   "outputs": [],
   "source": [
    "## Helper Functions\n",
    "def find_movie_name(input):\n",
    "    mid = int(input)\n",
    "    df = pd.read_csv('dataset/meta.csv')\n",
    "    movie_name = df.loc[df['mid'] == mid, 'title'].values\n",
    "    return movie_name[0] if len(movie_name) > 0 else None\n",
    "\n",
    "def clean_dataframe(df):\n",
    "    # Print shape before cleaning\n",
    "    print(\"Shape before cleaning:\", df.shape)\n",
    "    \n",
    "    # Remove duplicate rows\n",
    "    df = df.drop_duplicates()\n",
    "    # Remove rows with NaN values\n",
    "    df = df.dropna()\n",
    "    \n",
    "    # Print shape after cleaning\n",
    "    print(\"Shape after cleaning:\", df.shape)\n",
    "    return df"
   ]
  },
  {
   "cell_type": "markdown",
   "metadata": {},
   "source": [
    "# Exploratory Analysis of Movie Ratings Dataset\n",
    "\n",
    "## Dataset Description\n",
    "- The dataset contains movie ratings provided by users.\n",
    "- Each record consists of a user ID, movie ID, and rating."
   ]
  },
  {
   "cell_type": "code",
   "execution_count": 179,
   "metadata": {},
   "outputs": [
    {
     "name": "stdout",
     "output_type": "stream",
     "text": [
      "Shape before cleaning: (10000, 3)\n",
      "Shape after cleaning: (10000, 3)\n"
     ]
    }
   ],
   "source": [
    "df_rating = pd.read_csv('dataset/rating.csv').head(10000)\n",
    "df_rating = clean_dataframe(df_rating)\n",
    "df_meta = pd.read_csv('dataset/meta.csv')"
   ]
  },
  {
   "cell_type": "markdown",
   "metadata": {},
   "source": [
    "## Data Preparation\n",
    "- Load the dataset into a DataFrame.\n",
    "- Convert the DataFrame into a NetworkX graph, where nodes represent users and movies, and edges represent ratings."
   ]
  },
  {
   "cell_type": "code",
   "execution_count": 180,
   "metadata": {},
   "outputs": [],
   "source": [
    "# Create a directed bipartite graph\n",
    "B = nx.DiGraph()\n",
    "\n",
    "# Add nodes with the node attribute \"bipartite\"\n",
    "users = df_rating['uid'].unique()\n",
    "movies = df_rating['mid'].unique()\n",
    "B.add_nodes_from(users, bipartite=0)\n",
    "B.add_nodes_from(movies, bipartite=1)\n",
    "\n",
    "# Add edges with ratings as weights\n",
    "for index, row in df_rating.iterrows():\n",
    "    B.add_edge(row['uid'], row['mid'], weight=row['rating'])"
   ]
  },
  {
   "cell_type": "markdown",
   "metadata": {},
   "source": [
    "## Graph Analysis\n",
    "\n",
    "### User Activity\n",
    "- Find the user who made the most number of ratings.\n",
    "- Calculate the distribution of ratings provided by users."
   ]
  },
  {
   "cell_type": "code",
   "execution_count": 181,
   "metadata": {},
   "outputs": [
    {
     "name": "stdout",
     "output_type": "stream",
     "text": [
      "Most active user: 229\n"
     ]
    }
   ],
   "source": [
    "most_active_user = df_rating['uid'].value_counts().idxmax()\n",
    "print(\"Most active user:\", most_active_user)"
   ]
  },
  {
   "cell_type": "code",
   "execution_count": 194,
   "metadata": {},
   "outputs": [
    {
     "data": {
      "application/vnd.plotly.v1+json": {
       "config": {
        "plotlyServerURL": "https://plot.ly"
       },
       "data": [
        {
         "alignmentgroup": "True",
         "hovertemplate": "Rating=%{x}<br>Frequency=%{y}<extra></extra>",
         "legendgroup": "",
         "marker": {
          "color": "#636efa",
          "pattern": {
           "shape": ""
          }
         },
         "name": "",
         "offsetgroup": "",
         "orientation": "v",
         "showlegend": false,
         "textposition": "auto",
         "type": "bar",
         "x": [
          0.5,
          1,
          1.5,
          2,
          2.5,
          3,
          3.5,
          4,
          4.5,
          5
         ],
         "xaxis": "x",
         "y": [
          84,
          314,
          126,
          816,
          435,
          2554,
          851,
          2747,
          579,
          1494
         ],
         "yaxis": "y"
        }
       ],
       "layout": {
        "barmode": "relative",
        "legend": {
         "tracegroupgap": 0
        },
        "template": {
         "data": {
          "bar": [
           {
            "error_x": {
             "color": "#2a3f5f"
            },
            "error_y": {
             "color": "#2a3f5f"
            },
            "marker": {
             "line": {
              "color": "#E5ECF6",
              "width": 0.5
             },
             "pattern": {
              "fillmode": "overlay",
              "size": 10,
              "solidity": 0.2
             }
            },
            "type": "bar"
           }
          ],
          "barpolar": [
           {
            "marker": {
             "line": {
              "color": "#E5ECF6",
              "width": 0.5
             },
             "pattern": {
              "fillmode": "overlay",
              "size": 10,
              "solidity": 0.2
             }
            },
            "type": "barpolar"
           }
          ],
          "carpet": [
           {
            "aaxis": {
             "endlinecolor": "#2a3f5f",
             "gridcolor": "white",
             "linecolor": "white",
             "minorgridcolor": "white",
             "startlinecolor": "#2a3f5f"
            },
            "baxis": {
             "endlinecolor": "#2a3f5f",
             "gridcolor": "white",
             "linecolor": "white",
             "minorgridcolor": "white",
             "startlinecolor": "#2a3f5f"
            },
            "type": "carpet"
           }
          ],
          "choropleth": [
           {
            "colorbar": {
             "outlinewidth": 0,
             "ticks": ""
            },
            "type": "choropleth"
           }
          ],
          "contour": [
           {
            "colorbar": {
             "outlinewidth": 0,
             "ticks": ""
            },
            "colorscale": [
             [
              0,
              "#0d0887"
             ],
             [
              0.1111111111111111,
              "#46039f"
             ],
             [
              0.2222222222222222,
              "#7201a8"
             ],
             [
              0.3333333333333333,
              "#9c179e"
             ],
             [
              0.4444444444444444,
              "#bd3786"
             ],
             [
              0.5555555555555556,
              "#d8576b"
             ],
             [
              0.6666666666666666,
              "#ed7953"
             ],
             [
              0.7777777777777778,
              "#fb9f3a"
             ],
             [
              0.8888888888888888,
              "#fdca26"
             ],
             [
              1,
              "#f0f921"
             ]
            ],
            "type": "contour"
           }
          ],
          "contourcarpet": [
           {
            "colorbar": {
             "outlinewidth": 0,
             "ticks": ""
            },
            "type": "contourcarpet"
           }
          ],
          "heatmap": [
           {
            "colorbar": {
             "outlinewidth": 0,
             "ticks": ""
            },
            "colorscale": [
             [
              0,
              "#0d0887"
             ],
             [
              0.1111111111111111,
              "#46039f"
             ],
             [
              0.2222222222222222,
              "#7201a8"
             ],
             [
              0.3333333333333333,
              "#9c179e"
             ],
             [
              0.4444444444444444,
              "#bd3786"
             ],
             [
              0.5555555555555556,
              "#d8576b"
             ],
             [
              0.6666666666666666,
              "#ed7953"
             ],
             [
              0.7777777777777778,
              "#fb9f3a"
             ],
             [
              0.8888888888888888,
              "#fdca26"
             ],
             [
              1,
              "#f0f921"
             ]
            ],
            "type": "heatmap"
           }
          ],
          "heatmapgl": [
           {
            "colorbar": {
             "outlinewidth": 0,
             "ticks": ""
            },
            "colorscale": [
             [
              0,
              "#0d0887"
             ],
             [
              0.1111111111111111,
              "#46039f"
             ],
             [
              0.2222222222222222,
              "#7201a8"
             ],
             [
              0.3333333333333333,
              "#9c179e"
             ],
             [
              0.4444444444444444,
              "#bd3786"
             ],
             [
              0.5555555555555556,
              "#d8576b"
             ],
             [
              0.6666666666666666,
              "#ed7953"
             ],
             [
              0.7777777777777778,
              "#fb9f3a"
             ],
             [
              0.8888888888888888,
              "#fdca26"
             ],
             [
              1,
              "#f0f921"
             ]
            ],
            "type": "heatmapgl"
           }
          ],
          "histogram": [
           {
            "marker": {
             "pattern": {
              "fillmode": "overlay",
              "size": 10,
              "solidity": 0.2
             }
            },
            "type": "histogram"
           }
          ],
          "histogram2d": [
           {
            "colorbar": {
             "outlinewidth": 0,
             "ticks": ""
            },
            "colorscale": [
             [
              0,
              "#0d0887"
             ],
             [
              0.1111111111111111,
              "#46039f"
             ],
             [
              0.2222222222222222,
              "#7201a8"
             ],
             [
              0.3333333333333333,
              "#9c179e"
             ],
             [
              0.4444444444444444,
              "#bd3786"
             ],
             [
              0.5555555555555556,
              "#d8576b"
             ],
             [
              0.6666666666666666,
              "#ed7953"
             ],
             [
              0.7777777777777778,
              "#fb9f3a"
             ],
             [
              0.8888888888888888,
              "#fdca26"
             ],
             [
              1,
              "#f0f921"
             ]
            ],
            "type": "histogram2d"
           }
          ],
          "histogram2dcontour": [
           {
            "colorbar": {
             "outlinewidth": 0,
             "ticks": ""
            },
            "colorscale": [
             [
              0,
              "#0d0887"
             ],
             [
              0.1111111111111111,
              "#46039f"
             ],
             [
              0.2222222222222222,
              "#7201a8"
             ],
             [
              0.3333333333333333,
              "#9c179e"
             ],
             [
              0.4444444444444444,
              "#bd3786"
             ],
             [
              0.5555555555555556,
              "#d8576b"
             ],
             [
              0.6666666666666666,
              "#ed7953"
             ],
             [
              0.7777777777777778,
              "#fb9f3a"
             ],
             [
              0.8888888888888888,
              "#fdca26"
             ],
             [
              1,
              "#f0f921"
             ]
            ],
            "type": "histogram2dcontour"
           }
          ],
          "mesh3d": [
           {
            "colorbar": {
             "outlinewidth": 0,
             "ticks": ""
            },
            "type": "mesh3d"
           }
          ],
          "parcoords": [
           {
            "line": {
             "colorbar": {
              "outlinewidth": 0,
              "ticks": ""
             }
            },
            "type": "parcoords"
           }
          ],
          "pie": [
           {
            "automargin": true,
            "type": "pie"
           }
          ],
          "scatter": [
           {
            "fillpattern": {
             "fillmode": "overlay",
             "size": 10,
             "solidity": 0.2
            },
            "type": "scatter"
           }
          ],
          "scatter3d": [
           {
            "line": {
             "colorbar": {
              "outlinewidth": 0,
              "ticks": ""
             }
            },
            "marker": {
             "colorbar": {
              "outlinewidth": 0,
              "ticks": ""
             }
            },
            "type": "scatter3d"
           }
          ],
          "scattercarpet": [
           {
            "marker": {
             "colorbar": {
              "outlinewidth": 0,
              "ticks": ""
             }
            },
            "type": "scattercarpet"
           }
          ],
          "scattergeo": [
           {
            "marker": {
             "colorbar": {
              "outlinewidth": 0,
              "ticks": ""
             }
            },
            "type": "scattergeo"
           }
          ],
          "scattergl": [
           {
            "marker": {
             "colorbar": {
              "outlinewidth": 0,
              "ticks": ""
             }
            },
            "type": "scattergl"
           }
          ],
          "scattermapbox": [
           {
            "marker": {
             "colorbar": {
              "outlinewidth": 0,
              "ticks": ""
             }
            },
            "type": "scattermapbox"
           }
          ],
          "scatterpolar": [
           {
            "marker": {
             "colorbar": {
              "outlinewidth": 0,
              "ticks": ""
             }
            },
            "type": "scatterpolar"
           }
          ],
          "scatterpolargl": [
           {
            "marker": {
             "colorbar": {
              "outlinewidth": 0,
              "ticks": ""
             }
            },
            "type": "scatterpolargl"
           }
          ],
          "scatterternary": [
           {
            "marker": {
             "colorbar": {
              "outlinewidth": 0,
              "ticks": ""
             }
            },
            "type": "scatterternary"
           }
          ],
          "surface": [
           {
            "colorbar": {
             "outlinewidth": 0,
             "ticks": ""
            },
            "colorscale": [
             [
              0,
              "#0d0887"
             ],
             [
              0.1111111111111111,
              "#46039f"
             ],
             [
              0.2222222222222222,
              "#7201a8"
             ],
             [
              0.3333333333333333,
              "#9c179e"
             ],
             [
              0.4444444444444444,
              "#bd3786"
             ],
             [
              0.5555555555555556,
              "#d8576b"
             ],
             [
              0.6666666666666666,
              "#ed7953"
             ],
             [
              0.7777777777777778,
              "#fb9f3a"
             ],
             [
              0.8888888888888888,
              "#fdca26"
             ],
             [
              1,
              "#f0f921"
             ]
            ],
            "type": "surface"
           }
          ],
          "table": [
           {
            "cells": {
             "fill": {
              "color": "#EBF0F8"
             },
             "line": {
              "color": "white"
             }
            },
            "header": {
             "fill": {
              "color": "#C8D4E3"
             },
             "line": {
              "color": "white"
             }
            },
            "type": "table"
           }
          ]
         },
         "layout": {
          "annotationdefaults": {
           "arrowcolor": "#2a3f5f",
           "arrowhead": 0,
           "arrowwidth": 1
          },
          "autotypenumbers": "strict",
          "coloraxis": {
           "colorbar": {
            "outlinewidth": 0,
            "ticks": ""
           }
          },
          "colorscale": {
           "diverging": [
            [
             0,
             "#8e0152"
            ],
            [
             0.1,
             "#c51b7d"
            ],
            [
             0.2,
             "#de77ae"
            ],
            [
             0.3,
             "#f1b6da"
            ],
            [
             0.4,
             "#fde0ef"
            ],
            [
             0.5,
             "#f7f7f7"
            ],
            [
             0.6,
             "#e6f5d0"
            ],
            [
             0.7,
             "#b8e186"
            ],
            [
             0.8,
             "#7fbc41"
            ],
            [
             0.9,
             "#4d9221"
            ],
            [
             1,
             "#276419"
            ]
           ],
           "sequential": [
            [
             0,
             "#0d0887"
            ],
            [
             0.1111111111111111,
             "#46039f"
            ],
            [
             0.2222222222222222,
             "#7201a8"
            ],
            [
             0.3333333333333333,
             "#9c179e"
            ],
            [
             0.4444444444444444,
             "#bd3786"
            ],
            [
             0.5555555555555556,
             "#d8576b"
            ],
            [
             0.6666666666666666,
             "#ed7953"
            ],
            [
             0.7777777777777778,
             "#fb9f3a"
            ],
            [
             0.8888888888888888,
             "#fdca26"
            ],
            [
             1,
             "#f0f921"
            ]
           ],
           "sequentialminus": [
            [
             0,
             "#0d0887"
            ],
            [
             0.1111111111111111,
             "#46039f"
            ],
            [
             0.2222222222222222,
             "#7201a8"
            ],
            [
             0.3333333333333333,
             "#9c179e"
            ],
            [
             0.4444444444444444,
             "#bd3786"
            ],
            [
             0.5555555555555556,
             "#d8576b"
            ],
            [
             0.6666666666666666,
             "#ed7953"
            ],
            [
             0.7777777777777778,
             "#fb9f3a"
            ],
            [
             0.8888888888888888,
             "#fdca26"
            ],
            [
             1,
             "#f0f921"
            ]
           ]
          },
          "colorway": [
           "#636efa",
           "#EF553B",
           "#00cc96",
           "#ab63fa",
           "#FFA15A",
           "#19d3f3",
           "#FF6692",
           "#B6E880",
           "#FF97FF",
           "#FECB52"
          ],
          "font": {
           "color": "#2a3f5f"
          },
          "geo": {
           "bgcolor": "white",
           "lakecolor": "white",
           "landcolor": "#E5ECF6",
           "showlakes": true,
           "showland": true,
           "subunitcolor": "white"
          },
          "hoverlabel": {
           "align": "left"
          },
          "hovermode": "closest",
          "mapbox": {
           "style": "light"
          },
          "paper_bgcolor": "white",
          "plot_bgcolor": "#E5ECF6",
          "polar": {
           "angularaxis": {
            "gridcolor": "white",
            "linecolor": "white",
            "ticks": ""
           },
           "bgcolor": "#E5ECF6",
           "radialaxis": {
            "gridcolor": "white",
            "linecolor": "white",
            "ticks": ""
           }
          },
          "scene": {
           "xaxis": {
            "backgroundcolor": "#E5ECF6",
            "gridcolor": "white",
            "gridwidth": 2,
            "linecolor": "white",
            "showbackground": true,
            "ticks": "",
            "zerolinecolor": "white"
           },
           "yaxis": {
            "backgroundcolor": "#E5ECF6",
            "gridcolor": "white",
            "gridwidth": 2,
            "linecolor": "white",
            "showbackground": true,
            "ticks": "",
            "zerolinecolor": "white"
           },
           "zaxis": {
            "backgroundcolor": "#E5ECF6",
            "gridcolor": "white",
            "gridwidth": 2,
            "linecolor": "white",
            "showbackground": true,
            "ticks": "",
            "zerolinecolor": "white"
           }
          },
          "shapedefaults": {
           "line": {
            "color": "#2a3f5f"
           }
          },
          "ternary": {
           "aaxis": {
            "gridcolor": "white",
            "linecolor": "white",
            "ticks": ""
           },
           "baxis": {
            "gridcolor": "white",
            "linecolor": "white",
            "ticks": ""
           },
           "bgcolor": "#E5ECF6",
           "caxis": {
            "gridcolor": "white",
            "linecolor": "white",
            "ticks": ""
           }
          },
          "title": {
           "x": 0.05
          },
          "xaxis": {
           "automargin": true,
           "gridcolor": "white",
           "linecolor": "white",
           "ticks": "",
           "title": {
            "standoff": 15
           },
           "zerolinecolor": "white",
           "zerolinewidth": 2
          },
          "yaxis": {
           "automargin": true,
           "gridcolor": "white",
           "linecolor": "white",
           "ticks": "",
           "title": {
            "standoff": 15
           },
           "zerolinecolor": "white",
           "zerolinewidth": 2
          }
         }
        },
        "title": {
         "text": "Rating Distribution"
        },
        "xaxis": {
         "anchor": "y",
         "domain": [
          0,
          1
         ],
         "title": {
          "text": "Rating"
         }
        },
        "yaxis": {
         "anchor": "x",
         "domain": [
          0,
          1
         ],
         "title": {
          "text": "Frequency"
         }
        }
       }
      }
     },
     "metadata": {},
     "output_type": "display_data"
    }
   ],
   "source": [
    "rating_distribution = df_rating['rating'].value_counts().sort_index()\n",
    "\n",
    "fig = px.bar(x=rating_distribution.index, y=rating_distribution.values, \n",
    "             labels={'x': 'Rating', 'y': 'Frequency'}, \n",
    "             title='Rating Distribution')\n",
    "\n",
    "# Show the plot\n",
    "fig.show()"
   ]
  },
  {
   "cell_type": "markdown",
   "metadata": {},
   "source": [
    "🌟🎬 Elite Critics: Unveiling the User with Ridiculous Standards 🎬🌟"
   ]
  },
  {
   "cell_type": "code",
   "execution_count": 191,
   "metadata": {},
   "outputs": [
    {
     "name": "stdout",
     "output_type": "stream",
     "text": [
      "Ranking of users with lowest average rating:\n",
      "uid\n",
      "470    0.500000\n",
      "531    0.500000\n",
      "172    1.000000\n",
      "307    1.000000\n",
      "374    1.166667\n",
      "         ...   \n",
      "260    5.000000\n",
      "339    5.000000\n",
      "464    5.000000\n",
      "286    5.000000\n",
      "315    5.000000\n",
      "Name: rating, Length: 487, dtype: float64\n"
     ]
    }
   ],
   "source": [
    "average_rating_per_user = df_rating.groupby('uid')['rating'].mean()\n",
    "\n",
    "# Sort users based on average rating in ascending order\n",
    "sorted_users = average_rating_per_user.sort_values()\n",
    "\n",
    "print(\"Ranking of users with lowest average rating:\")\n",
    "print(sorted_users)"
   ]
  },
  {
   "cell_type": "markdown",
   "metadata": {},
   "source": [
    "### Movie Popularity\n",
    "- Identify the movie with the most views (highest number of ratings).\n",
    "- Determine the average rating for each movie.\n",
    "- Find the highest-rated and lowest-rated movies.\n"
   ]
  },
  {
   "cell_type": "code",
   "execution_count": 183,
   "metadata": {},
   "outputs": [
    {
     "name": "stdout",
     "output_type": "stream",
     "text": [
      "Most popular movie: Terminator 3: Rise of the Machines\n"
     ]
    }
   ],
   "source": [
    "most_popular_movie = df_rating['mid'].value_counts().idxmax()\n",
    "print(\"Most popular movie:\", find_movie_name(most_popular_movie))"
   ]
  },
  {
   "cell_type": "code",
   "execution_count": 184,
   "metadata": {},
   "outputs": [
    {
     "name": "stdout",
     "output_type": "stream",
     "text": [
      "Average movie rating:\n",
      "------------------------------\n",
      "Overall Average Rating: 3.26\n",
      "Individual Movie Ratings:\n",
      "        mid    rating\n",
      "0         5  3.083333\n",
      "1        11  3.636364\n",
      "2        12  2.250000\n",
      "3        13  3.000000\n",
      "4        14  2.833333\n",
      "..      ...       ...\n",
      "768   59387  3.000000\n",
      "769   77866  2.750000\n",
      "770   89492  3.666667\n",
      "771  115210  4.000000\n",
      "772  116977  5.000000\n",
      "\n",
      "[773 rows x 2 columns]\n"
     ]
    }
   ],
   "source": [
    "average_rating_per_movie = df_rating.groupby('mid')['rating'].mean().reset_index()\n",
    "\n",
    "# Calculate overall average movie rating\n",
    "overall_average_rating = average_rating_per_movie['rating'].mean()\n",
    "\n",
    "# Print the average movie rating\n",
    "print(\"Average movie rating:\")\n",
    "print(\"-\" * 30)\n",
    "print(\"Overall Average Rating: {:.2f}\".format(overall_average_rating))\n",
    "print(\"Individual Movie Ratings:\")\n",
    "print(average_rating_per_movie)"
   ]
  },
  {
   "cell_type": "markdown",
   "metadata": {},
   "source": [
    "🌟🎬 Movie Marvels and Meh Moments 🎬🌟"
   ]
  },
  {
   "cell_type": "code",
   "execution_count": 185,
   "metadata": {},
   "outputs": [
    {
     "name": "stdout",
     "output_type": "stream",
     "text": [
      "Highest rated movie: Sleepless in Seattle, Rating: 5.00\n",
      "Lowest rated movie: American Graffiti, Rating: 0.50\n"
     ]
    }
   ],
   "source": [
    "highest_rating_idx = df_rating['rating'].idxmax()\n",
    "lowest_rating_idx = df_rating['rating'].idxmin()\n",
    "\n",
    "# Extract the corresponding movie IDs\n",
    "highest_rating_movie_id = df_rating.loc[highest_rating_idx, 'mid']\n",
    "lowest_rating_movie_id = df_rating.loc[lowest_rating_idx, 'mid']\n",
    "\n",
    "# Extract the highest and lowest rating values\n",
    "highest_rating = df_rating.loc[highest_rating_idx, 'rating']\n",
    "lowest_rating = df_rating.loc[lowest_rating_idx, 'rating']\n",
    "\n",
    "print(\"Highest rated movie: {}, Rating: {:.2f}\".format(find_movie_name(highest_rating_movie_id), highest_rating))\n",
    "print(\"Lowest rated movie: {}, Rating: {:.2f}\".format(find_movie_name(lowest_rating_movie_id), lowest_rating))"
   ]
  },
  {
   "cell_type": "markdown",
   "metadata": {},
   "source": [
    "### User Similarity\n",
    "- Calculate similarity between users based on their ratings.\n",
    "- Identify communities of users with similar preferences."
   ]
  },
  {
   "cell_type": "markdown",
   "metadata": {},
   "source": [
    "🔍 Determining besties 🔍\n",
    "\n",
    "To uncover who vibes with you the most when it comes to the movies yall watch"
   ]
  },
  {
   "cell_type": "code",
   "execution_count": 186,
   "metadata": {},
   "outputs": [
    {
     "name": "stdout",
     "output_type": "stream",
     "text": [
      "Most similar users for each user (excluding itself):\n",
      "User 1: User 194\n",
      "User 2: User 165\n",
      "User 3: User 232\n",
      "User 4: User 339\n",
      "User 5: User 190\n",
      "User 6: User 184\n",
      "User 7: User 14\n",
      "User 8: User 96\n",
      "User 9: User 245\n",
      "User 10: User 208\n",
      "User 11: User 467\n",
      "User 12: User 62\n",
      "User 13: User 22\n",
      "User 14: User 103\n",
      "User 15: User 65\n",
      "User 16: User 434\n",
      "User 17: User 281\n",
      "User 18: User 145\n",
      "User 19: User 39\n",
      "User 20: User 129\n",
      "User 21: User 323\n",
      "User 22: User 13\n",
      "User 23: User 186\n",
      "User 24: User 97\n",
      "User 25: User 403\n",
      "User 26: User 60\n",
      "User 27: User 194\n",
      "User 28: User 357\n",
      "User 29: User 290\n",
      "User 30: User 457\n",
      "User 31: User 128\n",
      "User 32: User 97\n",
      "User 33: User 362\n",
      "User 34: User 91\n",
      "User 35: User 67\n",
      "User 36: User 71\n",
      "User 37: User 356\n",
      "User 38: User 295\n",
      "User 39: User 19\n",
      "User 40: User 199\n",
      "User 41: User 360\n",
      "User 42: User 10\n",
      "User 43: User 215\n",
      "User 44: User 354\n",
      "User 45: User 175\n",
      "User 46: User 362\n",
      "User 47: User 459\n",
      "User 48: User 119\n",
      "User 49: User 458\n",
      "User 50: User 342\n",
      "User 51: User 276\n",
      "User 52: User 69\n",
      "User 53: User 252\n",
      "User 54: User 135\n",
      "User 55: User 418\n",
      "User 56: User 123\n",
      "User 57: User 46\n",
      "User 58: User 37\n",
      "User 59: User 252\n",
      "User 60: User 238\n",
      "User 61: User 249\n",
      "User 62: User 186\n",
      "User 63: User 436\n",
      "User 64: User 10\n",
      "User 65: User 43\n",
      "User 66: User 430\n",
      "User 67: User 35\n",
      "User 68: User 180\n",
      "User 69: User 365\n",
      "User 70: User 398\n",
      "User 71: User 310\n",
      "User 72: User 99\n",
      "User 73: User 261\n",
      "User 74: User 386\n",
      "User 75: User 125\n",
      "User 76: User 208\n",
      "User 77: User 403\n",
      "User 78: User 474\n",
      "User 79: User 218\n",
      "User 80: User 403\n",
      "User 81: User 146\n",
      "User 82: User 421\n",
      "User 83: User 95\n",
      "User 84: User 208\n",
      "User 85: User 186\n",
      "User 86: User 454\n",
      "User 87: User 480\n",
      "User 88: User 24\n",
      "User 89: User 306\n",
      "User 90: User 369\n",
      "User 91: User 301\n",
      "User 92: User 198\n",
      "User 93: User 186\n",
      "User 94: User 338\n",
      "User 95: User 468\n",
      "User 96: User 8\n",
      "User 97: User 349\n",
      "User 98: User 203\n",
      "User 99: User 335\n",
      "User 100: User 130\n",
      "User 101: User 247\n",
      "User 102: User 232\n",
      "User 103: User 14\n",
      "User 104: User 471\n",
      "User 105: User 268\n",
      "User 106: User 84\n",
      "User 107: User 62\n",
      "User 108: User 73\n",
      "User 109: User 272\n",
      "User 110: User 314\n",
      "User 111: User 208\n",
      "User 112: User 186\n",
      "User 113: User 346\n",
      "User 114: User 66\n",
      "User 115: User 277\n",
      "User 116: User 451\n",
      "User 117: User 97\n",
      "User 118: User 208\n",
      "User 119: User 48\n",
      "User 120: User 219\n",
      "User 121: User 186\n",
      "User 122: User 344\n",
      "User 123: User 243\n",
      "User 124: User 1\n",
      "User 125: User 335\n",
      "User 126: User 149\n",
      "User 127: User 232\n",
      "User 128: User 31\n",
      "User 129: User 20\n",
      "User 130: User 100\n",
      "User 131: User 42\n",
      "User 132: User 368\n",
      "User 133: User 370\n",
      "User 134: User 431\n",
      "User 135: User 232\n",
      "User 136: User 14\n",
      "User 137: User 254\n",
      "User 138: User 186\n",
      "User 139: User 276\n",
      "User 140: User 180\n",
      "User 141: User 14\n",
      "User 142: User 315\n",
      "User 143: User 211\n",
      "User 144: User 449\n",
      "User 145: User 18\n",
      "User 146: User 138\n",
      "User 147: User 71\n",
      "User 148: User 32\n",
      "User 149: User 262\n",
      "User 150: User 232\n",
      "User 151: User 369\n",
      "User 152: User 218\n",
      "User 153: User 243\n",
      "User 154: User 396\n",
      "User 155: User 285\n",
      "User 156: User 459\n",
      "User 157: User 45\n",
      "User 158: User 453\n",
      "User 159: User 484\n",
      "User 160: User 322\n",
      "User 161: User 227\n",
      "User 162: User 480\n",
      "User 163: User 5\n",
      "User 164: User 254\n",
      "User 165: User 83\n",
      "User 166: User 283\n",
      "User 167: User 339\n",
      "User 168: User 257\n",
      "User 169: User 257\n",
      "User 170: User 232\n",
      "User 171: User 191\n",
      "User 172: User 235\n",
      "User 173: User 60\n",
      "User 174: User 76\n",
      "User 175: User 45\n",
      "User 176: User 369\n",
      "User 177: User 367\n",
      "User 178: User 209\n",
      "User 179: User 487\n",
      "User 180: User 191\n",
      "User 181: User 314\n",
      "User 182: User 353\n",
      "User 183: User 278\n",
      "User 184: User 6\n",
      "User 185: User 14\n",
      "User 186: User 362\n",
      "User 187: User 323\n",
      "User 188: User 321\n",
      "User 189: User 214\n",
      "User 190: User 47\n",
      "User 191: User 331\n",
      "User 192: User 228\n",
      "User 193: User 145\n",
      "User 194: User 27\n",
      "User 195: User 378\n",
      "User 196: User 91\n",
      "User 197: User 184\n",
      "User 198: User 447\n",
      "User 199: User 291\n",
      "User 200: User 285\n",
      "User 201: User 389\n",
      "User 202: User 36\n",
      "User 203: User 98\n",
      "User 204: User 271\n",
      "User 205: User 329\n",
      "User 206: User 10\n",
      "User 207: User 175\n",
      "User 208: User 76\n",
      "User 209: User 480\n",
      "User 210: User 20\n",
      "User 211: User 97\n",
      "User 212: User 104\n",
      "User 213: User 336\n",
      "User 214: User 342\n",
      "User 215: User 395\n",
      "User 216: User 149\n",
      "User 217: User 486\n",
      "User 218: User 306\n",
      "User 219: User 46\n",
      "User 220: User 306\n",
      "User 221: User 14\n",
      "User 222: User 427\n",
      "User 223: User 49\n",
      "User 224: User 328\n",
      "User 225: User 7\n",
      "User 226: User 225\n",
      "User 227: User 161\n",
      "User 228: User 14\n",
      "User 229: User 256\n",
      "User 230: User 310\n",
      "User 231: User 83\n",
      "User 232: User 3\n",
      "User 233: User 186\n",
      "User 234: User 215\n",
      "User 235: User 474\n",
      "User 236: User 77\n",
      "User 237: User 147\n",
      "User 238: User 290\n",
      "User 239: User 243\n",
      "User 240: User 330\n",
      "User 241: User 41\n",
      "User 242: User 293\n",
      "User 243: User 256\n",
      "User 244: User 480\n",
      "User 245: User 198\n",
      "User 246: User 68\n",
      "User 247: User 9\n",
      "User 248: User 341\n",
      "User 249: User 471\n",
      "User 250: User 408\n",
      "User 251: User 154\n",
      "User 252: User 93\n",
      "User 253: User 82\n",
      "User 254: User 164\n",
      "User 255: User 419\n",
      "User 256: User 243\n",
      "User 257: User 169\n",
      "User 258: User 43\n",
      "User 259: User 222\n",
      "User 260: User 282\n",
      "User 261: User 245\n",
      "User 262: User 149\n",
      "User 263: User 315\n",
      "User 264: User 136\n",
      "User 265: User 47\n",
      "User 266: User 61\n",
      "User 267: User 14\n",
      "User 268: User 105\n",
      "User 269: User 338\n",
      "User 270: User 346\n",
      "User 271: User 204\n",
      "User 272: User 347\n",
      "User 273: User 446\n",
      "User 274: User 362\n",
      "User 275: User 190\n",
      "User 276: User 139\n",
      "User 277: User 346\n",
      "User 278: User 349\n",
      "User 279: User 216\n",
      "User 280: User 243\n",
      "User 281: User 149\n",
      "User 282: User 190\n",
      "User 283: User 22\n",
      "User 284: User 418\n",
      "User 285: User 200\n",
      "User 286: User 138\n",
      "User 287: User 161\n",
      "User 288: User 271\n",
      "User 289: User 21\n",
      "User 290: User 238\n",
      "User 291: User 420\n",
      "User 292: User 250\n",
      "User 293: User 242\n",
      "User 294: User 357\n",
      "User 295: User 38\n",
      "User 296: User 178\n",
      "User 297: User 290\n",
      "User 298: User 349\n",
      "User 299: User 342\n",
      "User 300: User 97\n",
      "User 301: User 91\n",
      "User 302: User 280\n",
      "User 303: User 186\n",
      "User 304: User 269\n",
      "User 305: User 14\n",
      "User 306: User 218\n",
      "User 307: User 249\n",
      "User 308: User 215\n",
      "User 309: User 21\n",
      "User 310: User 190\n",
      "User 311: User 195\n",
      "User 312: User 129\n",
      "User 313: User 5\n",
      "User 314: User 110\n",
      "User 315: User 263\n",
      "User 316: User 342\n",
      "User 317: User 244\n",
      "User 318: User 190\n",
      "User 319: User 418\n",
      "User 320: User 125\n",
      "User 321: User 188\n",
      "User 322: User 138\n",
      "User 323: User 21\n",
      "User 324: User 46\n",
      "User 325: User 208\n",
      "User 326: User 254\n",
      "User 327: User 62\n",
      "User 328: User 392\n",
      "User 329: User 205\n",
      "User 330: User 446\n",
      "User 331: User 191\n",
      "User 332: User 22\n",
      "User 333: User 23\n",
      "User 334: User 344\n",
      "User 335: User 7\n",
      "User 336: User 213\n",
      "User 337: User 467\n",
      "User 338: User 94\n",
      "User 339: User 4\n",
      "User 340: User 38\n",
      "User 341: User 481\n",
      "User 342: User 362\n",
      "User 343: User 232\n",
      "User 344: User 334\n",
      "User 345: User 461\n",
      "User 346: User 277\n",
      "User 347: User 272\n",
      "User 348: User 47\n",
      "User 349: User 97\n",
      "User 350: User 321\n",
      "User 351: User 462\n",
      "User 352: User 451\n",
      "User 353: User 182\n",
      "User 354: User 426\n",
      "User 355: User 481\n",
      "User 356: User 37\n",
      "User 357: User 184\n",
      "User 358: User 471\n",
      "User 359: User 471\n",
      "User 360: User 342\n",
      "User 361: User 410\n",
      "User 362: User 186\n",
      "User 363: User 18\n",
      "User 364: User 458\n",
      "User 365: User 69\n",
      "User 366: User 215\n",
      "User 367: User 209\n",
      "User 368: User 132\n",
      "User 369: User 132\n",
      "User 370: User 269\n",
      "User 371: User 375\n",
      "User 372: User 465\n",
      "User 373: User 213\n",
      "User 374: User 113\n",
      "User 375: User 77\n",
      "User 376: User 155\n",
      "User 377: User 288\n",
      "User 378: User 369\n",
      "User 379: User 334\n",
      "User 380: User 445\n",
      "User 381: User 467\n",
      "User 382: User 46\n",
      "User 383: User 191\n",
      "User 384: User 1\n",
      "User 385: User 95\n",
      "User 386: User 74\n",
      "User 387: User 326\n",
      "User 388: User 178\n",
      "User 389: User 10\n",
      "User 390: User 245\n",
      "User 391: User 467\n",
      "User 392: User 328\n",
      "User 393: User 180\n",
      "User 394: User 271\n",
      "User 395: User 215\n",
      "User 396: User 295\n",
      "User 397: User 97\n",
      "User 398: User 480\n",
      "User 399: User 411\n",
      "User 400: User 307\n",
      "User 401: User 280\n",
      "User 402: User 218\n",
      "User 403: User 77\n",
      "User 404: User 406\n",
      "User 405: User 68\n",
      "User 406: User 404\n",
      "User 407: User 403\n",
      "User 408: User 250\n",
      "User 409: User 485\n",
      "User 410: User 431\n",
      "User 411: User 399\n",
      "User 412: User 232\n",
      "User 413: User 252\n",
      "User 414: User 62\n",
      "User 415: User 459\n",
      "User 416: User 232\n",
      "User 417: User 47\n",
      "User 418: User 480\n",
      "User 419: User 255\n",
      "User 420: User 71\n",
      "User 421: User 399\n",
      "User 422: User 100\n",
      "User 423: User 145\n",
      "User 424: User 186\n",
      "User 425: User 321\n",
      "User 426: User 354\n",
      "User 427: User 222\n",
      "User 428: User 252\n",
      "User 429: User 437\n",
      "User 430: User 66\n",
      "User 431: User 342\n",
      "User 432: User 62\n",
      "User 433: User 331\n",
      "User 434: User 471\n",
      "User 435: User 395\n",
      "User 436: User 421\n",
      "User 437: User 222\n",
      "User 438: User 323\n",
      "User 439: User 194\n",
      "User 440: User 190\n",
      "User 441: User 111\n",
      "User 442: User 362\n",
      "User 443: User 322\n",
      "User 444: User 14\n",
      "User 445: User 340\n",
      "User 446: User 330\n",
      "User 447: User 198\n",
      "User 448: User 77\n",
      "User 449: User 178\n",
      "User 450: User 412\n",
      "User 451: User 352\n",
      "User 452: User 483\n",
      "User 453: User 235\n",
      "User 454: User 86\n",
      "User 455: User 363\n",
      "User 456: User 97\n",
      "User 457: User 30\n",
      "User 458: User 364\n",
      "User 459: User 194\n",
      "User 460: User 11\n",
      "User 461: User 97\n",
      "User 462: User 7\n",
      "User 463: User 342\n",
      "User 464: User 334\n",
      "User 465: User 149\n",
      "User 466: User 326\n",
      "User 467: User 190\n",
      "User 468: User 95\n",
      "User 469: User 93\n",
      "User 470: User 465\n",
      "User 471: User 47\n",
      "User 472: User 47\n",
      "User 473: User 14\n",
      "User 474: User 235\n",
      "User 475: User 181\n",
      "User 476: User 14\n",
      "User 477: User 232\n",
      "User 478: User 198\n",
      "User 479: User 482\n",
      "User 480: User 209\n",
      "User 481: User 341\n",
      "User 482: User 479\n",
      "User 483: User 255\n",
      "User 484: User 159\n",
      "User 485: User 409\n",
      "User 486: User 217\n",
      "User 487: User 179\n"
     ]
    }
   ],
   "source": [
    "from sklearn.metrics.pairwise import cosine_similarity\n",
    "import numpy as np\n",
    "# Create a user-movie matrix\n",
    "user_movie_matrix = df_rating.pivot(index='uid', columns='mid', values='rating').fillna(0)\n",
    "\n",
    "# Calculate cosine similarity between users\n",
    "user_similarity = cosine_similarity(user_movie_matrix)\n",
    "\n",
    "# Set diagonal values to zero\n",
    "np.fill_diagonal(user_similarity, 0)\n",
    "\n",
    "# Find most similar users (excluding itself)\n",
    "most_similar_users = np.argmax(user_similarity, axis=1)\n",
    "\n",
    "print(\"Most similar users for each user (excluding itself):\")\n",
    "for user, similar_user in enumerate(most_similar_users):\n",
    "    print(f\"User {user+1}: User {similar_user+1}\")"
   ]
  },
  {
   "cell_type": "markdown",
   "metadata": {},
   "source": [
    "🎬 **Discovering Fam Vibes** 🎬\n",
    "\n",
    "Get ready to uncover communities where users share similar movie tastes and vibe together like one big fam! 🍿💫"
   ]
  },
  {
   "cell_type": "code",
   "execution_count": 187,
   "metadata": {},
   "outputs": [
    {
     "name": "stdout",
     "output_type": "stream",
     "text": [
      "Communities of users with similar preferences:\n",
      "Community 1: [1, 3, 8195, 8197, 7, 9, 12, 15, 16, 5137, 3089, 2067, 2069, 3093, 3097, 27, 28, 34, 4133, 37, 3110, 42, 4141, 47, 50, 51, 4148, 55, 57, 61, 63, 64, 2112, 1089, 1090, 69, 2118, 73, 75, 76, 79, 82, 86, 89, 96, 97, 1124, 106, 109, 110, 111, 2160, 117, 120, 121, 123, 124, 2176, 129, 133, 7303, 136, 4233, 138, 6283, 143, 8337, 146, 147, 148, 152, 4248, 154, 159, 164, 166, 174, 178, 184, 1213, 190, 6341, 200, 2252, 205, 206, 209, 210, 211, 212, 5333, 213, 214, 216, 215, 217, 219, 220, 2268, 1246, 223, 1247, 1248, 226, 1250, 1251, 230, 4327, 232, 233, 234, 1259, 235, 1262, 2289, 242, 243, 2291, 1267, 116977, 247, 1272, 249, 1273, 2300, 4349, 1278, 254, 255, 1281, 259, 263, 8456, 266, 267, 268, 273, 2321, 2324, 7445, 7450, 7451, 284, 285, 286, 290, 294, 300, 301, 302, 313, 314, 315, 6466, 2370, 324, 326, 330, 331, 333, 334, 1359, 335, 337, 51540, 340, 1366, 344, 6488, 346, 348, 358, 360, 361, 363, 367, 371, 374, 54648, 376, 49530, 382, 384, 1411, 388, 389, 4488, 6538, 401, 402, 89492, 405, 411, 412, 414, 1440, 417, 420, 55721, 50601, 425, 5548, 434, 436, 3509, 442, 443, 444, 447, 448, 452, 2501, 456, 3529, 458, 457, 459, 461, 1487, 463, 3536, 467, 469, 470, 6615, 8665, 6620, 479, 483, 485, 493, 502, 503, 505, 510, 1537, 514, 515, 516, 517, 519, 521, 3594, 522, 34314, 523, 526, 115210, 2575, 527, 529, 530, 535, 1572, 549, 1579, 1585, 2612, 567, 568, 5693, 574, 581, 583, 599, 1624, 2654, 608, 1635, 1639, 617, 2668, 621, 1645, 1648, 8836, 5769, 8848, 1683, 8852, 5780, 665, 8859, 668, 1694, 1701, 682, 8874, 2749, 1726, 702, 705, 1729, 2757, 4808, 2769, 8914, 8916, 2778, 2787, 769, 8961, 8970, 5902, 8984, 5915, 5916, 1824, 6947, 804, 6957, 7984, 6963, 1844, 824, 6978, 5955, 838, 8010, 8011, 2897, 858, 1883, 866, 4970, 2925, 4978, 4995, 901, 6023, 903, 1934, 2959, 914, 1939, 916, 918, 921, 1945, 43930, 1946, 1947, 1948, 1949, 924, 926, 928, 929, 1955, 1957, 1961, 4011, 942, 943, 7090, 947, 948, 949, 950, 951, 954, 955, 982, 3035, 3036, 994, 2023, 2024, 59387]\n",
      "Community 2: [2048, 4, 5125, 8, 4105, 2059, 3083, 13, 2062, 2064, 18, 20, 21, 23, 24, 30, 31, 2080, 2082, 35, 2088, 41, 46, 48, 2099, 2100, 2103, 56, 2105, 60, 2108, 65, 1091, 2116, 68, 70, 2119, 2122, 2123, 2124, 77, 78, 81, 83, 84, 85, 2133, 2135, 2140, 2142, 94, 98, 8291, 2149, 1125, 102, 3175, 2155, 2161, 2162, 2163, 115, 122, 125, 132, 135, 7304, 4234, 1162, 139, 144, 145, 151, 158, 2207, 160, 167, 169, 172, 175, 7345, 181, 182, 183, 187, 2239, 6346, 2253, 208, 1245, 2275, 228, 229, 2280, 239, 2288, 1265, 241, 1266, 2292, 244, 1268, 246, 2295, 2294, 251, 264, 265, 269, 270, 271, 272, 2320, 276, 278, 289, 291, 303, 307, 2355, 308, 309, 2359, 312, 316, 319, 332, 336, 4437, 345, 4442, 1370, 1371, 1372, 5470, 1374, 1375, 352, 353, 354, 1378, 356, 1381, 359, 3432, 362, 365, 1389, 4464, 1392, 379, 2428, 4477, 4478, 1408, 385, 386, 387, 390, 391, 393, 398, 403, 404, 2453, 1429, 2454, 407, 409, 415, 3489, 1441, 419, 4517, 4518, 426, 4523, 429, 5550, 437, 438, 439, 3512, 441, 4538, 445, 450, 8643, 451, 3525, 2502, 1480, 4553, 464, 465, 4564, 468, 4566, 471, 1497, 1498, 473, 474, 476, 1499, 480, 482, 488, 490, 4587, 2539, 497, 1523, 4599, 506, 507, 1541, 531, 533, 1562, 4638, 544, 546, 547, 4643, 1573, 1580, 558, 1584, 1586, 1587, 1588, 3638, 2616, 2617, 2621, 1598, 1597, 580, 2639, 594, 1619, 2642, 1621, 600, 2649, 602, 603, 5723, 1633, 3682, 3683, 2662, 616, 1641, 618, 8810, 8814, 4723, 1654, 638, 2687, 8831, 8835, 6795, 1677, 1687, 1688, 1689, 1690, 8860, 673, 674, 33454, 1713, 691, 1717, 1722, 5820, 1725, 703, 2755, 714, 2770, 2788, 2789, 1771, 2800, 1777, 755, 1779, 5876, 1788, 1792, 8968, 8974, 1817, 5919, 3877, 6950, 1831, 1833, 1835, 4911, 1850, 829, 4929, 1858, 1859, 849, 2898, 4951, 2907, 4958, 1887, 4961, 1894, 1895, 4967, 2924, 879, 881, 1909, 887, 1911, 1921, 898, 1923, 1924, 1927, 907, 3980, 1931, 3981, 913, 1941, 3989, 920, 923, 927, 2976, 1954, 1965, 5038, 1966, 2989, 1985, 1989, 968, 1995, 1997, 2001, 2005, 3033, 3034, 988, 990, 2018, 2019, 996, 2020, 2022, 3049, 2026, 2034, 3060, 3062, 2043]\n",
      "Community 3: [512, 2, 5, 6, 518, 10, 11, 524, 525, 3597, 14, 528, 22, 2071, 25, 1051, 539, 29, 32, 33, 38, 550, 551, 40, 77866, 43, 44, 49, 52, 54, 1593, 58, 59, 62, 1088, 577, 66, 6723, 2114, 67, 72, 585, 586, 74, 587, 588, 4174, 590, 80, 592, 595, 597, 87, 88, 90, 91, 605, 93, 95, 609, 99, 612, 100, 101, 103, 1640, 105, 1642, 619, 114, 627, 628, 118, 119, 635, 126, 639, 127, 640, 131, 6280, 650, 141, 142, 4244, 150, 663, 153, 667, 156, 157, 161, 162, 163, 165, 168, 681, 173, 688, 176, 177, 179, 692, 694, 185, 186, 700, 189, 188, 191, 704, 192, 193, 194, 707, 708, 197, 196, 198, 711, 201, 202, 203, 207, 218, 224, 225, 227, 231, 236, 237, 238, 240, 754, 1271, 248, 250, 762, 764, 252, 765, 253, 256, 257, 258, 260, 261, 2310, 782, 783, 274, 786, 275, 788, 279, 280, 282, 283, 288, 801, 802, 292, 293, 805, 295, 808, 296, 810, 809, 298, 818, 306, 311, 317, 318, 320, 321, 322, 323, 325, 840, 329, 338, 339, 2900, 341, 342, 343, 1367, 347, 861, 350, 357, 364, 366, 368, 370, 372, 888, 377, 378, 891, 380, 381, 383, 392, 395, 1422, 400, 413, 416, 418, 421, 422, 427, 430, 431, 432, 433, 435, 440, 963, 8645, 454, 455, 475, 478, 481, 487, 489, 491, 492, 494, 496, 499, 500, 501, 504, 508, 509, 2046, 511]\n",
      "Community 4: [1542, 2567, 17, 3090, 8978, 19, 277, 534, 26, 287, 36, 1574, 807, 297, 7980, 305, 562, 2610, 53, 565, 310, 2360, 1592, 2109, 71, 1103, 848, 1620, 1365, 1885, 606, 1892, 2148, 104, 107, 1900, 1904, 112, 116, 49013, 630, 2171, 2436, 134, 4247, 408, 155, 170, 171, 428, 1970, 180, 1975, 953, 1977, 1979, 453, 709, 1991, 1734, 204, 462, 466, 27873, 745, 3055, 1018, 1535]\n",
      "Community 5: [2085, 4232, 137, 140, 495, 1907, 281, 222]\n",
      "Community 6: [8373, 8870, 8966, 6552, 410]\n",
      "Community 7: [355, 460, 221, 830, 671]\n",
      "Community 8: [680, 199, 1996, 375]\n",
      "Community 9: [513, 1685, 1735]\n",
      "Community 10: [837, 245]\n",
      "Community 11: [397, 957]\n",
      "Community 12: [4912, 406]\n",
      "Community 13: [3078, 423]\n"
     ]
    }
   ],
   "source": [
    "# Detect communities using Louvain method\n",
    "communities = nx.algorithms.community.modularity_max.greedy_modularity_communities(B)\n",
    "\n",
    "# Display communities\n",
    "print(\"Communities of users with similar preferences:\")\n",
    "for i, community in enumerate(communities):\n",
    "    print(f\"Community {i+1}: {list(community)}\")"
   ]
  },
  {
   "cell_type": "markdown",
   "metadata": {},
   "source": [
    "## Recommendation System\n",
    "### Algorithm Steps\n",
    "\n",
    "1. **Calculate User Similarity**:\n",
    "   - User similarity is calculated based on the cosine similarity between user vectors representing their movie ratings.\n",
    "   - The `cosine_similarity` function from scikit-learn is used for this purpose.\n",
    "\n",
    "2. **Find Similar Users**:\n",
    "   - For a target user, similar users are identified based on the user similarity matrix.\n",
    "   - The `find_similar_users` function retrieves the top similar users to the target user.\n",
    "\n",
    "3. **Recommend Movies**:\n",
    "   - Movies are recommended to the target user based on the ratings of similar users.\n",
    "   - The `recommend_movies` function finds movies highly rated by similar users that the target user hasn't rated yet.\n",
    "   - It calculates the average rating of each recommended movie among similar users and selects the top-rated ones as recommendations.\n"
   ]
  },
  {
   "cell_type": "code",
   "execution_count": 188,
   "metadata": {},
   "outputs": [],
   "source": [
    "def find_similar_users(target_user, user_similarity_matrix, num_similar_users=5):\n",
    "    \"\"\"\n",
    "    Find similar users to the target user based on user similarity matrix.\n",
    "    Returns a list of similar user IDs.\n",
    "    \"\"\"\n",
    "    similar_users = user_similarity_matrix[target_user].argsort()[::-1][1:num_similar_users+1]\n",
    "    return similar_users\n",
    "\n",
    "def recommend_movies(target_user, similar_users, df, top_n=5):\n",
    "    \"\"\"\n",
    "    Recommend movies to the target user based on ratings of similar users.\n",
    "    Returns a list of movie IDs recommended to the target user.\n",
    "    \"\"\"\n",
    "    rated_movies = set(df[df['uid'] == target_user]['mid'])\n",
    "    recommended_movies = []\n",
    "    \n",
    "    for user in similar_users:\n",
    "        user_rated_movies = set(df[df['uid'] == user]['mid'])\n",
    "        recommended_movies.extend(user_rated_movies - rated_movies)\n",
    "    \n",
    "    recommended_movies = list(recommended_movies)\n",
    "    movie_ratings = [(movie, df[(df['mid'] == movie) & (df['uid'].isin(similar_users))]['rating'].mean()) for movie in recommended_movies]\n",
    "    recommended_movies = sorted(movie_ratings, key=lambda x: x[1], reverse=True)[:top_n]\n",
    "    recommended_movie_names = [find_movie_name(movie[0]) for movie in recommended_movies]\n",
    "    \n",
    "    return recommended_movie_names\n"
   ]
  },
  {
   "cell_type": "markdown",
   "metadata": {},
   "source": [
    "🎥 Tailored Flick Picks 🎥\n",
    "\n",
    "Welcome to a recommendation system crafted just for you! Get ready for personalized movie suggestions based on your ratings. 🌟🍿"
   ]
  },
  {
   "cell_type": "code",
   "execution_count": 189,
   "metadata": {},
   "outputs": [
    {
     "name": "stdout",
     "output_type": "stream",
     "text": [
      "Recommended movies for user 1: ['Interview with the Vampire', 'Evil Dead II', '2001: A Space Odyssey', 'TMNT', 'Cool Hand Luke']\n"
     ]
    }
   ],
   "source": [
    "# In this example, since we only have one user, similarity will be based on the user's own ratings\n",
    "user_similarity_matrix = cosine_similarity(df_rating.pivot(index='uid', columns='mid', values='rating').fillna(0))\n",
    "\n",
    "# Example: Recommend movies for target user '1'\n",
    "target_user = 1\n",
    "similar_users = find_similar_users(target_user, user_similarity_matrix)\n",
    "recommended_movies = recommend_movies(target_user, similar_users, df_rating)\n",
    "print(\"Recommended movies for user 1:\", recommended_movies)"
   ]
  }
 ],
 "metadata": {
  "kernelspec": {
   "display_name": "venv",
   "language": "python",
   "name": "python3"
  },
  "language_info": {
   "codemirror_mode": {
    "name": "ipython",
    "version": 3
   },
   "file_extension": ".py",
   "mimetype": "text/x-python",
   "name": "python",
   "nbconvert_exporter": "python",
   "pygments_lexer": "ipython3",
   "version": "3.11.3"
  }
 },
 "nbformat": 4,
 "nbformat_minor": 2
}
